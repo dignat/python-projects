{
 "cells": [
  {
   "cell_type": "code",
   "execution_count": 10,
   "metadata": {},
   "outputs": [
    {
     "name": "stdout",
     "output_type": "stream",
     "text": [
      "Lab\n",
      "Woof! my name is Sammy and number is 3\n"
     ]
    }
   ],
   "source": [
    "class Dog():\n",
    "    #class object attribute\n",
    "    species = 'mammal'\n",
    "    \n",
    "    def __init__(self,breed, name, spots):\n",
    "        self.breed = breed\n",
    "        self.name = name\n",
    "        #expect boolean\n",
    "        self.spots = spots\n",
    "        \n",
    "    def printBread(self):\n",
    "        print(self.breed)\n",
    "    def bark(self, number):\n",
    "        print('Woof! my name is {} and number is {}'.format(self.name, number))\n",
    "        \n",
    "myd = Dog(breed='Lab', name='Sammy', spots=False)\n",
    "myd.printBread()\n",
    "myd.species\n",
    "myd.bark(3)"
   ]
  },
  {
   "cell_type": "code",
   "execution_count": 14,
   "metadata": {},
   "outputs": [
    {
     "data": {
      "text/plain": [
       "3.14"
      ]
     },
     "execution_count": 14,
     "metadata": {},
     "output_type": "execute_result"
    }
   ],
   "source": [
    "class Circle():\n",
    "    #class object attribute\n",
    "    pi = 3.14\n",
    "    \n",
    "    def __init__(self, radius = 1):\n",
    "        self.radius = radius\n",
    "        self.area = radius * radius * self.pi\n",
    "        \n",
    "    def get_circunference(self):\n",
    "        return self.radius * self.pi * 2\n",
    "    \n",
    "circle = Circle()\n",
    "circle.get_circunference()\n",
    "circle.area"
   ]
  },
  {
   "cell_type": "code",
   "execution_count": 24,
   "metadata": {},
   "outputs": [
    {
     "name": "stdout",
     "output_type": "stream",
     "text": [
      "Animal created\n",
      "Dog is created\n",
      "i am dog\n"
     ]
    }
   ],
   "source": [
    "class Animal():\n",
    "    \n",
    "    def __init__(self):\n",
    "        print(\"Animal created\")\n",
    "        \n",
    "    def eat(self):\n",
    "        print(\"I am eating\")\n",
    "        \n",
    "    def who_am_i(self):\n",
    "        print(\"who am I\")\n",
    "        \n",
    "\n",
    "class Dogs(Animal):\n",
    "    \n",
    "    def __init__(self):\n",
    "        super().__init__()\n",
    "        print(\"Dog is created\")\n",
    "        \n",
    "    def who_am_i(self):\n",
    "        print(\"i am dog\")\n",
    "    \n",
    "    def bark(self):\n",
    "        print(\"Woof!\")\n",
    "        \n",
    "dog = Dogs()\n",
    "\n",
    "dog.who_am_i()"
   ]
  },
  {
   "cell_type": "code",
   "execution_count": 31,
   "metadata": {},
   "outputs": [
    {
     "name": "stdout",
     "output_type": "stream",
     "text": [
      "fifi says meow\n"
     ]
    }
   ],
   "source": [
    "class Dog():\n",
    "    \n",
    "    def __init__(self, name):\n",
    "        self.name = name\n",
    "        \n",
    "    def speak(self):\n",
    "        return self.name + \" says woof\"\n",
    "class Cat():\n",
    "    \n",
    "    def __init__(self, name):\n",
    "        self.name = name\n",
    "        \n",
    "    def speak(self):\n",
    "        return self.name + \" says meow\"\n",
    "    \n",
    "niko = Dog(\"niko\")\n",
    "fifi = Cat(\"fifi\")\n",
    "\n",
    "niko.speak()\n",
    "\n",
    "fifi.speak()\n",
    "\n",
    "def pet_speak(pet):\n",
    "    print(pet.speak())\n",
    "    \n",
    "pet_speak(fifi)"
   ]
  },
  {
   "cell_type": "code",
   "execution_count": 35,
   "metadata": {},
   "outputs": [
    {
     "data": {
      "text/plain": [
       "'isis meow'"
      ]
     },
     "execution_count": 35,
     "metadata": {},
     "output_type": "execute_result"
    }
   ],
   "source": [
    "class Animal():\n",
    "    def __init__(self, name) -> None:\n",
    "        self.name = name\n",
    "        \n",
    "    def speak(self):\n",
    "        raise NotImplementedError(\"Subclass must implement this abstract method\")\n",
    "    \n",
    "animal = Animal('fred')\n",
    "class Dog(Animal):\n",
    "    \n",
    "    def speak(self):\n",
    "        return self.name + \" woof\"\n",
    "class Cat(Animal):\n",
    "    \n",
    "    def speak(self):\n",
    "        return self.name + \" meow\"\n",
    "    \n",
    "fido = Dog(\"fido\")\n",
    "isis = Cat(\"isis\")\n",
    "fido.speak()\n",
    "isis.speak()"
   ]
  },
  {
   "cell_type": "code",
   "execution_count": 40,
   "metadata": {},
   "outputs": [
    {
     "name": "stdout",
     "output_type": "stream",
     "text": [
      "Python by Jose\n",
      "Abook object has been deleted\n"
     ]
    }
   ],
   "source": [
    "class Book():\n",
    "    \n",
    "    def __init__(self, title, author, page) -> None:\n",
    "        self.title = title\n",
    "        self.auhtor = author\n",
    "        self.page = page\n",
    "        \n",
    "    def __str__(self):\n",
    "        return f\"{self.title} by {self.auhtor}\"\n",
    "\n",
    "    def __len__(self):\n",
    "        return self.page\n",
    "    \n",
    "    def __del__(self):\n",
    "        print(\"A book object has been deleted\")\n",
    "        \n",
    "book = Book(\"Python\", \"Jose\", 200)\n",
    "print(book)\n",
    "len(book)\n",
    "del book"
   ]
  }
 ],
 "metadata": {
  "kernelspec": {
   "display_name": "Python 3",
   "language": "python",
   "name": "python3"
  },
  "language_info": {
   "codemirror_mode": {
    "name": "ipython",
    "version": 3
   },
   "file_extension": ".py",
   "mimetype": "text/x-python",
   "name": "python",
   "nbconvert_exporter": "python",
   "pygments_lexer": "ipython3",
   "version": "3.9.6"
  },
  "orig_nbformat": 4
 },
 "nbformat": 4,
 "nbformat_minor": 2
}
